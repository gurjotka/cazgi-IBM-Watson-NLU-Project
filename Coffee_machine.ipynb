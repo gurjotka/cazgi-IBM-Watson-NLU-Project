{
  "nbformat": 4,
  "nbformat_minor": 0,
  "metadata": {
    "colab": {
      "provenance": [],
      "authorship_tag": "ABX9TyPzy+mBq8ZV18ZozW9m+cPW",
      "include_colab_link": true
    },
    "kernelspec": {
      "name": "python3",
      "display_name": "Python 3"
    },
    "language_info": {
      "name": "python"
    }
  },
  "cells": [
    {
      "cell_type": "markdown",
      "metadata": {
        "id": "view-in-github",
        "colab_type": "text"
      },
      "source": [
        "<a href=\"https://colab.research.google.com/github/gurjotka/cazgi-IBM-Watson-NLU-Project/blob/master/Coffee_machine.ipynb\" target=\"_parent\"><img src=\"https://colab.research.google.com/assets/colab-badge.svg\" alt=\"Open In Colab\"/></a>"
      ]
    },
    {
      "cell_type": "code",
      "source": [
        "MENU = {\n",
        "    \"espresso\": {\n",
        "        \"ingredients\": {\n",
        "            \"water\": 50,\n",
        "            \"coffee\": 18,\n",
        "        },\n",
        "        \"cost\": 1.5,\n",
        "    },\n",
        "    \"latte\": {\n",
        "        \"ingredients\": {\n",
        "            \"water\": 200,\n",
        "            \"milk\": 150,\n",
        "            \"coffee\": 24,\n",
        "        },\n",
        "        \"cost\": 2.5,\n",
        "    },\n",
        "    \"cappuccino\": {\n",
        "        \"ingredients\": {\n",
        "            \"water\": 250,\n",
        "            \"milk\": 100,\n",
        "            \"coffee\": 24,\n",
        "        },\n",
        "        \"cost\": 3.0,\n",
        "    }\n",
        "}\n",
        "\n",
        "resources = {\n",
        "    \"water\": 300,\n",
        "    \"milk\": 200,\n",
        "    \"coffee\": 100,\n",
        "}\n"
      ],
      "metadata": {
        "id": "P1Nm52oouKfY"
      },
      "execution_count": null,
      "outputs": []
    },
    {
      "cell_type": "code",
      "execution_count": null,
      "metadata": {
        "id": "DGbewZ3Rt_ry"
      },
      "outputs": [],
      "source": [
        "# building a coffee machine\n",
        "\n",
        "machine_on = True\n",
        "while machine_on:\n",
        "\n",
        "    order = input(\"What would you like to order? (espresso/latte/cappucino)\").lower()\n",
        "\n",
        "    if order == \"report\":\n",
        "        for key,value in resources.items():\n",
        "            print(f\"{key}:{value}\")\n",
        "\n",
        "    elif order == \"off\":\n",
        "        machine_on = False\n",
        "\n",
        "    else:\n",
        "        drink = MENU[order]\n",
        "        print(drink)\n",
        "        if drink['ingredients'].items() < resources.items():\n",
        "           print(\"Please insert coins..\\n\")\n",
        "           quarters = input(\"quarters= \")\n",
        "           dimes = input(\"dimes= \")\n",
        "           nickles = input(\"nickles= \")\n",
        "           pennies = input(\"pennies= \")\n",
        "           money_received = (0.25*quarters) + (0.1*dimes) + (0.05*nickles) + (0.01*pennies)\n",
        "           print(money_received)\n",
        "        else:\n",
        "            print(\"Not enough resources\")\n",
        ""
      ]
    }
  ]
}